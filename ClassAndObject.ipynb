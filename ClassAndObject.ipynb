{
 "cells": [
  {
   "cell_type": "markdown",
   "metadata": {},
   "source": [
    "# Function"
   ]
  },
  {
   "cell_type": "markdown",
   "metadata": {},
   "source": [
    "Function is defined using keywork def. For example,"
   ]
  },
  {
   "cell_type": "code",
   "execution_count": 1,
   "metadata": {},
   "outputs": [],
   "source": [
    "def add(a, b):\n",
    "    return a+b"
   ]
  },
  {
   "cell_type": "markdown",
   "metadata": {},
   "source": [
    "which defines an add operation. To use it, you can call it in a statement like"
   ]
  },
  {
   "cell_type": "code",
   "execution_count": 2,
   "metadata": {},
   "outputs": [
    {
     "name": "stdout",
     "output_type": "stream",
     "text": [
      "3\n"
     ]
    }
   ],
   "source": [
    "x = add(1,2)\n",
    "print(x)"
   ]
  },
  {
   "cell_type": "markdown",
   "metadata": {},
   "source": [
    "where x is a variable keep the output of add function. \n",
    "\n",
    "Function allows you to re-use code. The add function above is simple. But if a function contains hundred or thousand lines of code, using function saves a lot of coding."
   ]
  },
  {
   "cell_type": "markdown",
   "metadata": {},
   "source": [
    "# Class and Object"
   ]
  },
  {
   "cell_type": "markdown",
   "metadata": {},
   "source": [
    "Class comes from the same motivation - reuse code. But we are not just interested in doing one operation, like addition. We are interested in doing many method on a single data structure. MaxHeap is such a example, which defines several methods on a single data array. The MaxHeap class is store in \"maxHeap.py\" file in the Jupyter home directory. You can see its name in dashboard. You can view its content by click the file name in dashboard."
   ]
  },
  {
   "cell_type": "markdown",
   "metadata": {},
   "source": [
    "To use a class, you must first create an object of the class. The python code to create an object from a class has the format:\n",
    "\n",
    "obj = Class()  \n",
    "\n",
    "where Class is the class name, obj is the name of the object create from the class, () tells python engine to create an object which has a type of Class. Don't forget the (). You can think () as an object creation operator.\n",
    "\n",
    "For example.\n",
    "\n",
    "MH = MaxHeap()    (A)\n",
    "\n",
    "means create an object of MaxHeap and name the object as MH."
   ]
  },
  {
   "cell_type": "markdown",
   "metadata": {},
   "source": [
    "Now what is the difference between class and object? Let's take MaxHeap as an example. MaxHeap class says the class will work on data array. It do not say which data array it will work on. The object must specify what data array it will work on. So when you run statement (A) to create MaxHeap object, you must set up the data array the object will work on in the next statement as\n",
    "\n",
    "MH.buildHeap([...])\n",
    "\n",
    "Here are some sample code."
   ]
  },
  {
   "cell_type": "code",
   "execution_count": 3,
   "metadata": {},
   "outputs": [
    {
     "name": "stdout",
     "output_type": "stream",
     "text": [
      "[18, 10, 9, 9, 6, 3, 6, 0]\n",
      "[84, 24, 3, 8]\n"
     ]
    }
   ],
   "source": [
    "import maxHeap\n",
    "MH = maxHeap.MaxHeap()\n",
    "MH.buildHeap([6,9,3,0,10,9,6,18])\n",
    "MH.printout()\n",
    "MH1 = maxHeap.MaxHeap()\n",
    "MH1.buildHeap([3,8,84,24])\n",
    "MH1.printout()\n",
    "\n"
   ]
  },
  {
   "cell_type": "markdown",
   "metadata": {},
   "source": [
    "In our sample code, we must import MaxHeap() class from maxHeap.py file. Since MaxHeap class is not defined the same python file as MH.buildHeap() statement. Because MaxHeap class is imported from other file, we must refer it as \n",
    "\n",
    "MH = maxHeap.MaxHeap()\n",
    "\n",
    "where maxHeap is the imported file name and MaxHeap is the class name defined in the imported file. If the class is defined in the same file where it is used, then \"maxHeap.\" must be removed."
   ]
  },
  {
   "cell_type": "markdown",
   "metadata": {},
   "source": [
    "# Summary"
   ]
  },
  {
   "cell_type": "markdown",
   "metadata": {},
   "source": [
    "class defines many methods that will apply to an abstract data structure. object is an instance of abstract class which specify what real or exact data structure those methods will apply to. In programming, class is called a metadata or template of object. In other words, class specifies the behavior of a group elements, and an object is one element of the group."
   ]
  }
 ],
 "metadata": {
  "kernelspec": {
   "display_name": "Python 3",
   "language": "python",
   "name": "python3"
  },
  "language_info": {
   "codemirror_mode": {
    "name": "ipython",
    "version": 3
   },
   "file_extension": ".py",
   "mimetype": "text/x-python",
   "name": "python",
   "nbconvert_exporter": "python",
   "pygments_lexer": "ipython3",
   "version": "3.7.0"
  }
 },
 "nbformat": 4,
 "nbformat_minor": 2
}
