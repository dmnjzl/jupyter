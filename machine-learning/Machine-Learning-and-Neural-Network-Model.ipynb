{
 "cells": [
  {
   "cell_type": "markdown",
   "metadata": {},
   "source": [
    "# Machine Learning and Neural Network Model"
   ]
  },
  {
   "cell_type": "markdown",
   "metadata": {},
   "source": [
    "Artificial Intelligence is a very broad topic. Machine Learning is part of it. Neural Network is one of models used in Machine Learning. This article just wants to understand how neural networks solves a real problem, human handwriting recognition, using [MNIST](http://yann.lecun.com/exdb/mnist/) database (Modified National Institute of Standards and Technology database) as an example. MNIST is a large database of handwritten digits that is commonly used for training various image processing systems. \n",
    "\n",
    "[Neural Networks and Deep Learning](http://neuralnetworksanddeeplearning.com/index.html) is a very good on-line book that introduces machine learning and neural network using MNIST database. However, how to build a neural network model for a real problem is a question asked by most people. For MNIST database, although the 784 input nodes and 10 output nodes are commonly accepted, the number of hidden layers and hidden nodes is an open question. The book discussed many models and their test results and performances. When I go through the book, I feel all of them are focused on how to improve the accuracy of test and how to train the model using less time and small size of samples. But it is hard to see the relationship between model's infrastructure (the number of hidden layers and hidden nodes) and the real problem we want to solve.\n",
    "\n",
    "However, after reading some chapters and other related articles, I get some understandings about what machine learning and neural networks model is really doing. I want to share them with you. Because I think you may have the same question, and I don't see any answer when I search on internet.\n",
    "\n",
    "First, what is the problem that machine learning and neural networks model can or is used to solve.\n",
    "\n",
    "When people make a decision, there are two methods people can use. The first is logic. The logic decision process looks like a tree. You start from the root, answer many questions or choose an option from a list, move down on the tree, and finally reach one leaf - find answer. For example, on-line diagnose system. By answering many questions according to your symptoms, you will find what problem your body has.\n",
    "\n",
    "However, a lot of problems you cannot build such a decision process to solve it. For such problems, people use experience. Human handwriting recognition is one of them. The number of one, two, three, four, five, six, seven, eight, nine and zero have the shape '1', '2', '3', '4', '5', '6', '7', '8', '9' and '0'. When you see a human handwriting number, you cannot create a decision tree that tells you which number the handwriting is close to. But after you see many many handwriting numbers, you can say \"this is 0\" and \"that is 8\" based on the handwriting numbers you saw and the corrections of decisions you made before. Machine learning and neural networks model is similar to human experience to make this type decision. Machine __LEARN__s. How does machine learn? Machine uses the __NEURAL NETWORKS__ model to learn. Now you understand why machine learning needs a lot of training data. \n",
    "\n",
    "Before moving on, I want to point out that behind Machine Learning and Neural Networks model is a mathematical problem called __Object Classification__, which classifies elements into different groups. Of course, human handwriting recognition is an object classification problem, which classifies human handwritings into ten groups based on the value they represent. In general, all machine learning problems are mathematical problems. Their solutions existed for several ten years. But until recently, when computer becomes so powerful that an answer can get in second, using these methods to solve a real problem become a reality. In hardware, because processor becomes faster and faster. In software, because of parallel programming - more and more computers work together to solve a very complex problem. It may be the reason that Daniel's data structure course has so many staffs related computer performance such as sorting algorithms, comparison and parallel programming. "
   ]
  },
  {
   "cell_type": "markdown",
   "metadata": {},
   "source": [
    "# [MNIST](http://yann.lecun.com/exdb/mnist/) Database and Digital Image"
   ]
  },
  {
   "cell_type": "markdown",
   "metadata": {},
   "source": [
    "The human handwriting numbers used in neural networks machine learning are represented as digital images, which are downloaded from MNIST database. You can go to [MNIST](http://yann.lecun.com/exdb/mnist/) web site for more information. Simply speaking, the database contains over 60,000 images. Each image, with the size of 28 X 28 pixels, represents a human handwriting number. To understand how neural networks model works, we must first understand how a digital image represents human handwriting. Because it is very important to know, and we will discuss it later, the digital image is a __REPRESENTATION__ of a human handwriting, not handwriting itself. It is the same as that an A-C-G-T letter sequence in a DNA database is a digital representation of DNA, not DNA itself. \n",
    "\n",
    "All digital data are a sequence of bytes (8 bits). A pixel in digital image represents a point of the image and an image is represented as two dimensional pixels. But how a pixel is represented by a sequence of bytes? It depends on image type. There are two types of image: greyscale and color:\n",
    "* In greyscale image, one byte represents one pixel. 0 represents black, 255 represents white.  \n",
    "* In color image, three bytes represent one pixel. For example, one byte for red, one byte for blue and one byte for green, with the scale 0 represents the strongest color and 255 represents white (no color).\n",
    "The digital images in MNIST are greyscale images. \n",
    "\n",
    "To let you have some hands-on experience on solving a real problem using neural network model, we will run some python programs below. However, I don't want to put too many efforts on explaining code details. I put most code in several modules (.py files) and put them in the python-lib folder that is in the same folder as this ipynb file. If you want to know more about coding, you can look those files. The python programs below will just highlight the major steps of the process, and each step will call some methods defined in those modules. In such a way, you can focus on what data are passed between steps and what result each step will produce.\n",
    "\n",
    "Now let's start.\n",
    "\n",
    "First, run the code below to get NMIST data and prepare them for neural network training and test."
   ]
  },
  {
   "cell_type": "code",
   "execution_count": 1,
   "metadata": {},
   "outputs": [
    {
     "name": "stdout",
     "output_type": "stream",
     "text": [
      "MNIST data loading completed.\n",
      "training data:\n",
      "(50000, 784)\n",
      "(50000,)\n",
      "test data:\n",
      "(10000, 784)\n",
      "(10000,)\n"
     ]
    }
   ],
   "source": [
    "import sys\n",
    "sys.path.append('python-lib')\n",
    "\n",
    "import util\n",
    "training_data, validation_data, test_data = util.load_mnist() \n",
    "training_image, training_label = training_data\n",
    "print('training data:')\n",
    "print(training_image.shape)\n",
    "print(training_label.shape)\n",
    "test_image, test_label = test_data\n",
    "print('test data:')\n",
    "print(test_image.shape)\n",
    "print(test_label.shape)"
   ]
  },
  {
   "cell_type": "markdown",
   "metadata": {},
   "source": [
    "Shape is a property of numpy array, which describes array dimensions. You see there are 50000 training images and 10000 test images. Each image has 784 bytes, meaning each image has 784 pixels. Training label and test label are one dimension array. They represent the number of the corespondent image. Those are data format or data structure we use later to train and test neural network. There are another 10000 validation data. We will not use them.\n",
    "\n",
    "MNIST keeps image pixel as byte, which can have int value from 0 to 255. But our neural network model requires input node value to be between 0 and 1. So we must convert MNIST pixel data (byte) to neural network required input value (float) by a range mapping [0,255] -> [0,1]. This is another work what util.load_mnist() method does. "
   ]
  },
  {
   "cell_type": "markdown",
   "metadata": {},
   "source": [
    "# Neural Network Model"
   ]
  },
  {
   "cell_type": "markdown",
   "metadata": {},
   "source": [
    "Neural Network model is a mathematical model defined by several layers of nodes and connections between these nodes. Each node has many inputs and outputs. Each input associates with a weight and a base. Each output has an activation function. All input values, each multiplies with the associated weight and plus the associated base, are summed up. The activation function is then applied to the sum. Finally, the function output is sent to the nodes of next layer. For model to learn, a cost function is defined on all out-layer nodes, which takes the difference of each output node value and expected value as input.\n",
    "\n",
    "The Neural Network research work focuses on how to define number of layers and nodes, how to specify weights, bases and activation functions, and how to choose cost function and algorithm for model to learn. [Neural Networks and Deep Learning](http://neuralnetworksanddeeplearning.com/index.html) provides very good and detailed information about them. We will not discuss them. We are going to look why neural network can recognize human handwriting. \n",
    "\n",
    "Let's create a neural network model with 784 input nodes, one hidden layer with 30 nodes and 10 output nodes, and train it using MNIST data. The training process takes time. Please wait until you see \"neural network completed learning\" message in output. To run the code, click the cell below to select it, and then click the \"Run\" button in top tool bar.\n"
   ]
  },
  {
   "cell_type": "code",
   "execution_count": 2,
   "metadata": {
    "scrolled": true
   },
   "outputs": [
    {
     "name": "stdout",
     "output_type": "stream",
     "text": [
      "neural network is learning .......\n",
      "Epoch 0 : 9033 / 10000\n",
      "Epoch 1 : 9149 / 10000\n",
      "Epoch 2 : 9289 / 10000\n",
      "Epoch 3 : 9357 / 10000\n",
      "Epoch 4 : 9359 / 10000\n",
      "neural network completed learning.\n"
     ]
    }
   ],
   "source": [
    "import network # python module define neural network model\n",
    "import train # python module to train neural network model using given training and test data\n",
    "\n",
    "# create Network model\n",
    "net = network.Network([784, 30, 10])\n",
    "\n",
    "# train neural network model\n",
    "trainer = train.Train(net, test_data)\n",
    "trainer.training(training_data)\n"
   ]
  },
  {
   "cell_type": "markdown",
   "metadata": {},
   "source": [
    "In the above code, we first define a neural network model, which is called __net__. Then we pass the neural network model (net), training data set (training_data) and test data set (test_data) into train module to train the neural network. We use Network class provided in [Neural Networks and Deep Learning](http://neuralnetworksanddeeplearning.com/index.html). The training goes through 5 times. It is also called Epoch in the book. You can read the book if you want to know more. After each training, 10000 test images are used to test the trained model. The number in the middle column is the number of test images which the trained model recognized. You see that the model recognizes more test images when it gets more training.\n",
    "\n",
    "You can re-run the code and see the recognized test images may be different in each run. This is because the start point for training is randomly picked in the program. However, they have the same trend - recognized test images increases when the model gets more training\n",
    "\n",
    "We will use this trained model to understand how nueral network recognizes humam handwritings. If you run the above code several times, the last trained model will be used later."
   ]
  },
  {
   "cell_type": "markdown",
   "metadata": {},
   "source": [
    "# Represent Human Handwritings in Different Images"
   ]
  },
  {
   "cell_type": "markdown",
   "metadata": {},
   "source": [
    "The picture below contains the first 10 test images in MNIST data set.\n",
    "\n",
    "![Cannot find image.mnist.png](data:image/png;base64,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)\n",
    "\n",
    "\n",
    "In each image, human handwriting displays as white color in black background.\n",
    "\n",
    "Now let's change test image background but not handwriting to represent human handwritings a little different from original MNIST representation.\n",
    "\n",
    "First, we define a __change_background__ function, which changes image background. It will be used later in other programs. \n",
    "\n",
    "Then we change the background of the MNIST images using it. The background value must be between 0 and 1. 0 means black. 1 means white.\n",
    "\n",
    "Finally, we print the first 10 images of the MNIST image set and the changed image set. It may take a few seconds. Please be patient."
   ]
  },
  {
   "cell_type": "code",
   "execution_count": 3,
   "metadata": {},
   "outputs": [
    {
     "data": {
      "image/png": "[encoded data removed]",
      "text/plain": [
       "<PIL.Image.Image image mode=P size=590x29 at 0x29CD78C0D68>"
      ]
     },
     "metadata": {},
     "output_type": "display_data"
    }
   ],
   "source": [
    "# Define background value. It must be between 0 and 1\n",
    "background = 0.5\n",
    "\n",
    "import imagePrinter\n",
    "\n",
    "def change_background(image, background):\n",
    "    changed_image = []\n",
    "    size = len(image)\n",
    "    for i in range(size):\n",
    "        img = image[i].copy()\n",
    "        # loop through each point of the image\n",
    "        for k in range(len(img)):\n",
    "            if img[k] < background:  # code to change background\n",
    "                img[k] = background  # code to change background\n",
    "        changed_image.append(img)\n",
    "    return changed_image\n",
    "\n",
    "# change test images background\n",
    "changed_image = change_background(image=test_image, background=background)\n",
    "printer = imagePrinter.ImagePrinter((1,10))\n",
    "for i in range(10):\n",
    "    printer.addImagePair(test_image[i], changed_image[i])\n",
    "printer.printHorizontal()"
   ]
  },
  {
   "cell_type": "markdown",
   "metadata": {},
   "source": [
    "Among the output, the left is the first 10 original MNIST images. The right is the same images but their background are changed using the change_background function. Except background, handwritings in two image sets look no difference.\n",
    "\n",
    "You can change background value between 0 and 1, re-run the above code, and see how image background changes.\n",
    "\n",
    "Now, if we test the neural network model that we trained before with the background changed images, you may think the test result should be the same. Since changing image background does not change human handwriting. Can you say the handwritings in the right images are different from those in the left images? Therefore, if a neural network model can recognize images in the left set, it should recognize the corespondent images in the right set. \n",
    "\n",
    "Let's verify it by running the code below with different background values. The evaluate function takes time. Please be patient until you see all results.\n",
    "\n",
    "You can run the code below as many times as you like with different background values.\n"
   ]
  },
  {
   "cell_type": "code",
   "execution_count": 4,
   "metadata": {},
   "outputs": [
    {
     "name": "stdout",
     "output_type": "stream",
     "text": [
      "background 0.0 : 9359 / 10000\n"
     ]
    },
    {
     "data": {
      "image/png": "[encoded data removed]",
      "text/plain": [
       "<PIL.Image.Image image mode=P size=590x29 at 0x29CD78C0240>"
      ]
     },
     "metadata": {},
     "output_type": "display_data"
    },
    {
     "name": "stdout",
     "output_type": "stream",
     "text": [
      "background 0.2 : 5946 / 10000\n"
     ]
    },
    {
     "data": {
      "image/png": "[encoded data removed]",
      "text/plain": [
       "<PIL.Image.Image image mode=P size=590x29 at 0x29CD78C00B8>"
      ]
     },
     "metadata": {},
     "output_type": "display_data"
    },
    {
     "name": "stdout",
     "output_type": "stream",
     "text": [
      "background 0.5 : 2229 / 10000\n"
     ]
    },
    {
     "data": {
      "image/png": "[encoded data removed]",
      "text/plain": [
       "<PIL.Image.Image image mode=P size=590x29 at 0x29CD64C8160>"
      ]
     },
     "metadata": {},
     "output_type": "display_data"
    },
    {
     "name": "stdout",
     "output_type": "stream",
     "text": [
      "background 0.8 : 1001 / 10000\n"
     ]
    },
    {
     "data": {
      "image/png": "[encoded data removed]",
      "text/plain": [
       "<PIL.Image.Image image mode=P size=590x29 at 0x29CDB4E0EB8>"
      ]
     },
     "metadata": {},
     "output_type": "display_data"
    },
    {
     "name": "stdout",
     "output_type": "stream",
     "text": [
      "background 1.0 : 974 / 10000\n"
     ]
    },
    {
     "data": {
      "image/png": "[encoded data removed]",
      "text/plain": [
       "<PIL.Image.Image image mode=P size=590x29 at 0x29CD78A4D30>"
      ]
     },
     "metadata": {},
     "output_type": "display_data"
    }
   ],
   "source": [
    "# define background\n",
    "# the original values are 0.0, 0.2, 0.5, 0.8, 1.0\n",
    "for background in [0.0, 0.2, 0.5, 0.8, 1.0]:\n",
    "    file = \"image-\"+str(background)\n",
    "    # change test image background\n",
    "    changed_test_image = change_background(test_image, background)\n",
    "    # prepare test data\n",
    "    changed_test_data = (changed_test_image, test_label)\n",
    "    # run test\n",
    "    trainer.evaluate(changed_test_data, background, file)"
   ]
  },
  {
   "cell_type": "markdown",
   "metadata": {},
   "source": [
    "Each output contains background value, the number of recognized images, and the number of test images. The left images are the first 10 MNIST images. The right images are the corresponding changed images. \n",
    "\n",
    "The recognized image number when background value is 0.0 is the same as the one in the last Epcho training. \n",
    "\n",
    "Are the test results same or different? Do you see any pattern between background and the recognized image number?\n",
    "\n",
    "Finally, let's revert the pixel values (if a pixel has value x, then we change it to 1-x) for all images and test the neural network model using the new images. Please be patient. It takes seconds to get the result. (Click the cell below to activate the code and click \"Run\" button in top tool bar.)\n"
   ]
  },
  {
   "cell_type": "code",
   "execution_count": 5,
   "metadata": {},
   "outputs": [
    {
     "name": "stdout",
     "output_type": "stream",
     "text": [
      "background 1.0 : 96 / 10000\n"
     ]
    },
    {
     "data": {
      "image/png": "[encoded data removed]",
      "text/plain": [
       "<PIL.Image.Image image mode=P size=590x29 at 0x29CD78C0C18>"
      ]
     },
     "metadata": {},
     "output_type": "display_data"
    }
   ],
   "source": [
    "# revert_background function has the same code as change_background function\n",
    "# except it replaces two line code in change_background function with one line code\n",
    "# can you find them?\n",
    "def revert_background(image):\n",
    "    changed_image = []\n",
    "    size = len(image)\n",
    "    for i in range(size):\n",
    "        img = image[i].copy()\n",
    "        # loop through each point of the image\n",
    "        for k in range(len(img)):\n",
    "            img[k] = 1 - img[k]  # code to revert gray scale\n",
    "        changed_image.append(img)\n",
    "    return changed_image\n",
    "# revert test image background\n",
    "revert_test_image = revert_background(test_image)\n",
    "# prepare test data\n",
    "revert_test_data = (revert_test_image, test_label)\n",
    "# run test\n",
    "trainer.evaluate(revert_test_data, 1.0, 'Revert')"
   ]
  },
  {
   "cell_type": "markdown",
   "metadata": {},
   "source": [
    "Now let's look all test results, including background values you picked if you did."
   ]
  },
  {
   "cell_type": "code",
   "execution_count": 6,
   "metadata": {},
   "outputs": [
    {
     "name": "stdout",
     "output_type": "stream",
     "text": [
      "image-0.0 : 9359 / 10000\n"
     ]
    },
    {
     "data": {
      "image/png": "[encoded data removed]",
      "text/plain": [
       "<PIL.PngImagePlugin.PngImageFile image mode=P size=290x29 at 0x29CD78C04E0>"
      ]
     },
     "metadata": {},
     "output_type": "display_data"
    },
    {
     "name": "stdout",
     "output_type": "stream",
     "text": [
      "image-0.2 : 5946 / 10000\n"
     ]
    },
    {
     "data": {
      "image/png": "[encoded data removed]",
      "text/plain": [
       "<PIL.PngImagePlugin.PngImageFile image mode=P size=290x29 at 0x29CD78C0518>"
      ]
     },
     "metadata": {},
     "output_type": "display_data"
    },
    {
     "name": "stdout",
     "output_type": "stream",
     "text": [
      "image-0.5 : 2229 / 10000\n"
     ]
    },
    {
     "data": {
      "image/png": "[encoded data removed]",
      "text/plain": [
       "<PIL.PngImagePlugin.PngImageFile image mode=P size=290x29 at 0x29CD78C0588>"
      ]
     },
     "metadata": {},
     "output_type": "display_data"
    },
    {
     "name": "stdout",
     "output_type": "stream",
     "text": [
      "image-0.8 : 1001 / 10000\n"
     ]
    },
    {
     "data": {
      "image/png": "[encoded data removed]",
      "text/plain": [
       "<PIL.PngImagePlugin.PngImageFile image mode=P size=290x29 at 0x29CD78C0518>"
      ]
     },
     "metadata": {},
     "output_type": "display_data"
    },
    {
     "name": "stdout",
     "output_type": "stream",
     "text": [
      "image-1.0 : 974 / 10000\n"
     ]
    },
    {
     "data": {
      "image/png": "[encoded data removed]",
      "text/plain": [
       "<PIL.PngImagePlugin.PngImageFile image mode=P size=290x29 at 0x29CD78C0518>"
      ]
     },
     "metadata": {},
     "output_type": "display_data"
    },
    {
     "name": "stdout",
     "output_type": "stream",
     "text": [
      "Revert : 96 / 10000\n"
     ]
    },
    {
     "data": {
      "image/png": "[encoded data removed]",
      "text/plain": [
       "<PIL.PngImagePlugin.PngImageFile image mode=P size=290x29 at 0x29CD78C04E0>"
      ]
     },
     "metadata": {},
     "output_type": "display_data"
    }
   ],
   "source": [
    "from PIL import Image\n",
    "for result in trainer.sortResults():\n",
    "        print(\"{} : {} / {}\".format(result['display'], result['count'], result['sample']))\n",
    "        file = result['display']+'.png'\n",
    "        display(Image.open(file))"
   ]
  },
  {
   "cell_type": "markdown",
   "metadata": {},
   "source": [
    "where image-0.0 is the same as the test result in the last Epoch in model training. Revert is the test result when we revert all pixel values."
   ]
  },
  {
   "cell_type": "markdown",
   "metadata": {},
   "source": [
    "The results may surprise you. But it is obvious that changing test image background can significantly change test results. The lighter the background is the less images can be recognized. The revert test result may be the most unexpected one. Its recognized rate is the smallest. What happens to our trained neural network model?! The human handwritings have no change. At least for our eyes. But our trained neural network cannot recognize them. What's going on here for AI?!"
   ]
  },
  {
   "cell_type": "markdown",
   "metadata": {},
   "source": [
    "# Does Neural Network Work?"
   ]
  },
  {
   "cell_type": "markdown",
   "metadata": {},
   "source": [
    "First, what is neural network? Neural network is a continuous mapping in mathematics, and it is a program in computer that implements the mathematical model.\n",
    "\n",
    "If you look the specification of neural network in mathematics, it is just a mapping from input space to output space. If the activation function of neural network is a continuous function, then the mapping is a continuous mapping. Because the neural network mapping is a set of operations of addition, multiplication and applying activation function to node inputs, biases, weights and outputs. If a mapping depends on a series of continuous mappings, then it is a continuous mapping. We learned it from basic calculus.\n",
    "\n",
    "Our neural network model for human handwritings is a mapping from a 784 dimension input space to a 10 dimension output space and using sigmoid as activation function. Therefore, it is a continuous mapping. We also learned from calculus, if a mapping is continuous, then a small change in input space will result in a small change in output space. When a neural network model is well trained, it will map most of its training images to the correct categories. If a test image is close to some trained image, then the test output category will be close the output category of the trained image. That's how a neural network makes a prediction. It is similar to prediction in statistics. \n",
    "\n",
    "However, the input data to our neural network model is the whole image (784 pixels), not just human handwriting part (pixels forming number or pixels having values greater than 0 - remember, in MNIST image, background pixel has value 0). Now, it is easy to understand why changing image background reduces image recognition rate. When a image changes its background, although it does not change human handwriting it represents, it moves in the input space away from its original point because background pixel values change. The lighter the  background becomes, the more it moves away from its original point. The revert image is a point most far away from the original point. Because it changes its all pixel values. Therefore, it has the lowest recognize rate.\n",
    "\n",
    "Does neural network model work? Yes, of course. But it only works on a specific REPRESENTATION of human handwriting, not human handwriting ITSELF. In our case, it is image with 28 X 28 pixels in gray scale with black background. And training data and test data must have in the same format. Imagine what will happen if our trained neural network model is used to test 29 X 29 or 27 X 27 pixel images. The program will crash. Because it requires 28 X 28 pixel images as inputs.\n",
    "\n",
    "But when training objects and test objects are in the same format, neural network model is powerful. It can do much better work than human being. For example, if our neural network model is trained with 28 X 28 pixel images, but test images are 29 X 29 pixel and in color, then we can do some image modification before applying test data to our trained model.\n",
    "1. change color image to gray scale image.\n",
    "2. resize image from 29 X 29 pixel to 28 X 28 pixel.\n",
    "\n",
    "Another example is iphone handwriting recognition. Since iphone's handwriting panel has fixed size, its background cannot change, and it is not in color, it is a very good system/product to recognize handwriting."
   ]
  },
  {
   "cell_type": "markdown",
   "metadata": {},
   "source": [
    "Now, let's talk about how neural network model is trained. As we said before,  a neural network model is a continuous mapping in mathematics. To find out the values of biases and weights, a cost function is defined on the output value and its expected value. A common used cost function is a quadratic function. If x is input, f is function represents the neural network mapping, and y is expected value, then the function is (f(x) - y)^2. The training process is to find out a set of biases and weights which minimize the cost function for given training data. Does it sound familiar? Is it the same as statistic regression if we think the neural network mapping is a regression function and the cost function is a max likely hood function? People are talking about what is the best algorithm to find a solution. The differences are\n",
    "1. Neural network is not a liner but a very complex function.\n",
    "2. There are many many parameters need to estimate.\n",
    "\n",
    "There are three types of work around it from applied to theory:\n",
    "1. how to specify input and output spaces - convert a real problem to a math problem.\n",
    "2. how to build a math model - model specification.\n",
    "3. how to find a specific model (model parameter values) which minimize the cost function for given data - find algorithm and implement it.\n",
    "\n",
    "Economist and M.D. will work on 1. Mathematician and Computer Scientist will work on 3. All will work on 2. If you are an expert of all three, you are superman."
   ]
  }
 ],
 "metadata": {
  "kernelspec": {
   "display_name": "Python 3",
   "language": "python",
   "name": "python3"
  },
  "language_info": {
   "codemirror_mode": {
    "name": "ipython",
    "version": 3
   },
   "file_extension": ".py",
   "mimetype": "text/x-python",
   "name": "python",
   "nbconvert_exporter": "python",
   "pygments_lexer": "ipython3",
   "version": "3.6.8"
  }
 },
 "nbformat": 4,
 "nbformat_minor": 2
}
